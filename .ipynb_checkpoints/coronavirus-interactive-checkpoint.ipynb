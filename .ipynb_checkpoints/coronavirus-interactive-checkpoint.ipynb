{
 "cells": [
  {
   "cell_type": "code",
   "execution_count": null,
   "metadata": {},
   "outputs": [],
   "source": [
    "import folium\n",
    "from folium import Choropleth, Circle, Marker\n",
    "from folium.plugins import HeatMap, MarkerCluster\n",
    "import geopandas as gpd\n",
    "import pandas as pd\n",
    "import math as math\n",
    "# Create a map\n",
    "m_1 = folium.Map(location=[42.32,-71.0589], tiles='openstreetmap', zoom_start=10)\n",
    "\n",
    "# Display the map\n",
    "m_1"
   ]
  },
  {
   "cell_type": "code",
   "execution_count": null,
   "metadata": {},
   "outputs": [],
   "source": [
    "confirmed_filepath = \"./input/time_series_covid_19_confirmed.csv\"\n",
    "\n",
    "# Your code here: Load the data\n",
    "confirmed_df = gpd.read_file(confirmed_filepath)\n",
    "# Drop rows with missing locations\n",
    "confirmed_df.dropna(subset=['Lat', 'Long', 'Province/State'], inplace=True)\n",
    "\n",
    "\n",
    "# Convert the DataFrame to a GeoDataFrame\n",
    "confirmed_df['Lat'] = confirmed_df['Lat'].astype(float)\n",
    "confirmed_df['Long'] = confirmed_df['Long'].astype(float)\n",
    "confirmed = gpd.GeoDataFrame(confirmed_df, geometry=gpd.points_from_xy(confirmed_df.Long, confirmed_df.Lat))\n",
    "# Set the coordinate reference system (CRS) to EPSG 4326\n",
    "confirmed.crs = {'init': 'epsg:4326'}\n",
    "# View the first five rows of the GeoDataFrame\n",
    "confirmed.head()"
   ]
  },
  {
   "cell_type": "code",
   "execution_count": null,
   "metadata": {},
   "outputs": [],
   "source": [
    "deaths_filepath = \"./input/time_series_covid_19_deaths.csv\"\n",
    "deaths_df = gpd.read_file(deaths_filepath)\n",
    "deaths_df['Lat'] = deaths_df['Lat'].astype(float)\n",
    "deaths_df['Long'] = deaths_df['Long'].astype(float)\n",
    "deaths = gpd.GeoDataFrame(deaths_df, geometry=gpd.points_from_xy(deaths_df.Long, deaths_df.Lat))\n",
    "# Set the coordinate reference system (CRS) to EPSG 4326\n",
    "deaths.crs = {'init': 'epsg:4326'}\n",
    "# View the first five rows of the GeoDataFrame\n",
    "deaths.head()"
   ]
  },
  {
   "cell_type": "code",
   "execution_count": null,
   "metadata": {},
   "outputs": [],
   "source": [
    "recovered_filepath = \"./input/time_series_covid_19_recovered.csv\"\n",
    "recovered_df = gpd.read_file(recovered_filepath)\n",
    "recovered_df['Lat'] = recovered_df['Lat'].astype(float)\n",
    "recovered_df['Long'] = recovered_df['Long'].astype(float)\n",
    "recovered = gpd.GeoDataFrame(recovered_df, geometry=gpd.points_from_xy(recovered_df.Long, recovered_df.Lat))\n",
    "# Set the coordinate reference system (CRS) to EPSG 4326\n",
    "recovered.crs = {'init': 'epsg:4326'}\n",
    "# View the first five rows of the GeoDataFrame\n",
    "recovered.head()"
   ]
  },
  {
   "cell_type": "code",
   "execution_count": null,
   "metadata": {},
   "outputs": [],
   "source": [
    "# Create a map\n",
    "m_2 = folium.Map(location=[42.32,-71.0589], tiles='cartodbpositron', zoom_start=13)\n",
    "\n",
    "# Add points to the map\n",
    "for idx, row in confirmed.iterrows():\n",
    "    Marker([row['Lat'], row['Long']]).add_to(m_2)\n",
    "\n",
    "# Display the map\n",
    "m_2"
   ]
  },
  {
   "cell_type": "code",
   "execution_count": null,
   "metadata": {},
   "outputs": [],
   "source": [
    "# Create the map\n",
    "m_3 = folium.Map(location=[42.32,-71.0589], tiles='cartodbpositron', zoom_start=13)\n",
    "\n",
    "# Add points to the map\n",
    "mc = MarkerCluster()\n",
    "for idx, row in confirmed.iterrows():\n",
    "    if not math.isnan(row['Long']) and not math.isnan(row['Lat']):\n",
    "        mc.add_child(Marker([row['Lat'], row['Long']]))\n",
    "m_3.add_child(mc)\n",
    "\n",
    "\n",
    "mc = MarkerCluster()\n",
    "for idx, row in recovered.iterrows():\n",
    "    if not math.isnan(row['Long']) and not math.isnan(row['Lat']):\n",
    "        mc.add_child(Marker([row['Lat'], row['Long']]))\n",
    "m_3.add_child(mc)\n",
    "\n",
    "mc = MarkerCluster()\n",
    "for idx, row in deaths.iterrows():\n",
    "    if not math.isnan(row['Long']) and not math.isnan(row['Lat']):\n",
    "        mc.add_child(Marker([row['Lat'], row['Long']]))\n",
    "m_3.add_child(mc)\n",
    "\n",
    "\n",
    "\n",
    "# Display the map\n",
    "m_3"
   ]
  },
  {
   "cell_type": "code",
   "execution_count": null,
   "metadata": {},
   "outputs": [],
   "source": []
  }
 ],
 "metadata": {
  "file_extension": ".py",
  "kernelspec": {
   "display_name": "Python (AzureMLOpsEnv)",
   "language": "python",
   "name": "azuremlopsenv"
  },
  "language_info": {
   "codemirror_mode": {
    "name": "ipython",
    "version": 3
   },
   "file_extension": ".py",
   "mimetype": "text/x-python",
   "name": "python",
   "nbconvert_exporter": "python",
   "pygments_lexer": "ipython3",
   "version": "3.6.5"
  },
  "mimetype": "text/x-python",
  "name": "python",
  "npconvert_exporter": "python",
  "pygments_lexer": "ipython3",
  "version": 3
 },
 "nbformat": 4,
 "nbformat_minor": 2
}
