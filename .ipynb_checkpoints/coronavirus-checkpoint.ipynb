{
 "cells": [
  {
   "cell_type": "code",
   "execution_count": null,
   "metadata": {},
   "outputs": [],
   "source": [
    "import geopandas as gpd\n",
    "import pandas as pd\n",
    "\n",
    "confirmed_filepath = \"./input/time_series_covid_19_confirmed.csv\"\n",
    "\n",
    "# Your code here: Load the data\n",
    "confirmed_df = gpd.read_file(confirmed_filepath)\n",
    "#confirmed_df = confirmed_df['Province/State','Country/Region','Lat','Long','02/20/20','geometry']]\n",
    "\n",
    "# Convert the DataFrame to a GeoDataFrame\n",
    "confirmed_df['Lat'] = confirmed_df['Lat'].astype(float)\n",
    "confirmed_df['Long'] = confirmed_df['Long'].astype(float)\n",
    "confirmed = gpd.GeoDataFrame(confirmed_df, geometry=gpd.points_from_xy(confirmed_df.Long, confirmed_df.Lat))\n",
    "# Set the coordinate reference system (CRS) to EPSG 4326\n",
    "confirmed.crs = {'init': 'epsg:4326'}\n",
    "# View the first five rows of the GeoDataFrame\n",
    "confirmed.head()\n",
    "\n"
   ]
  },
  {
   "cell_type": "code",
   "execution_count": null,
   "metadata": {},
   "outputs": [],
   "source": [
    "deaths_filepath = \"./input/time_series_covid_19_deaths.csv\"\n",
    "deaths_df = gpd.read_file(deaths_filepath)\n",
    "deaths_df['Lat'] = deaths_df['Lat'].astype(float)\n",
    "deaths_df['Long'] = deaths_df['Long'].astype(float)\n",
    "deaths = gpd.GeoDataFrame(deaths_df, geometry=gpd.points_from_xy(deaths_df.Long, deaths_df.Lat))\n",
    "# Set the coordinate reference system (CRS) to EPSG 4326\n",
    "deaths.crs = {'init': 'epsg:4326'}\n",
    "# View the first five rows of the GeoDataFrame\n",
    "deaths.head()"
   ]
  },
  {
   "cell_type": "code",
   "execution_count": null,
   "metadata": {},
   "outputs": [],
   "source": [
    "recovered_filepath = \"./input/time_series_covid_19_recovered.csv\"\n",
    "recovered_df = gpd.read_file(recovered_filepath)\n",
    "recovered_df['Lat'] = recovered_df['Lat'].astype(float)\n",
    "recovered_df['Long'] = recovered_df['Long'].astype(float)\n",
    "recovered = gpd.GeoDataFrame(recovered_df, geometry=gpd.points_from_xy(recovered_df.Long, recovered_df.Lat))\n",
    "# Set the coordinate reference system (CRS) to EPSG 4326\n",
    "recovered.crs = {'init': 'epsg:4326'}\n",
    "# View the first five rows of the GeoDataFrame\n",
    "recovered.head()"
   ]
  },
  {
   "cell_type": "code",
   "execution_count": null,
   "metadata": {},
   "outputs": [],
   "source": [
    "world_filepath = gpd.datasets.get_path('naturalearth_lowres')\n",
    "world = gpd.read_file(world_filepath)\n",
    "world.head()"
   ]
  },
  {
   "cell_type": "code",
   "execution_count": null,
   "metadata": {},
   "outputs": [],
   "source": [
    "ax = world.plot(figsize=(10,10), color='none', edgecolor='gainsboro', zorder=3)\n",
    "confirmed.plot(color='red', ax=ax)\n",
    "deaths.plot(color='black', markersize=2, ax=ax)\n",
    "recovered.plot(color='green', markersize=1, ax=ax)\n"
   ]
  },
  {
   "cell_type": "code",
   "execution_count": null,
   "metadata": {},
   "outputs": [],
   "source": []
  }
 ],
 "metadata": {
  "file_extension": ".py",
  "kernelspec": {
   "display_name": "Python (AzureMLOpsEnv)",
   "language": "python",
   "name": "azuremlopsenv"
  },
  "language_info": {
   "codemirror_mode": {
    "name": "ipython",
    "version": 3
   },
   "file_extension": ".py",
   "mimetype": "text/x-python",
   "name": "python",
   "nbconvert_exporter": "python",
   "pygments_lexer": "ipython3",
   "version": "3.6.5"
  },
  "mimetype": "text/x-python",
  "name": "python",
  "npconvert_exporter": "python",
  "pygments_lexer": "ipython3",
  "version": 3
 },
 "nbformat": 4,
 "nbformat_minor": 2
}
